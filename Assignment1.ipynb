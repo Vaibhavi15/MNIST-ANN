{
  "nbformat": 4,
  "nbformat_minor": 0,
  "metadata": {
    "colab": {
      "name": "Assignment1.ipynb",
      "version": "0.3.2",
      "views": {},
      "default_view": {},
      "provenance": []
    },
    "kernelspec": {
      "name": "python3",
      "display_name": "Python 3"
    }
  },
  "cells": [
    {
      "metadata": {
        "id": "_u9JgvKtxiG2",
        "colab_type": "text"
      },
      "cell_type": "markdown",
      "source": [
        "Data Import and Load"
      ]
    },
    {
      "metadata": {
        "id": "8L1eobFCxgFe",
        "colab_type": "code",
        "colab": {
          "autoexec": {
            "startup": false,
            "wait_interval": 0
          }
        }
      },
      "cell_type": "code",
      "source": [
        "!pip install -q keras\n",
        "import tensorflow as tf\n",
        "import numpy\n",
        "from keras.models import Sequential\n",
        "from keras.layers import Dense\n",
        "from keras.optimizers import SGD\n",
        "from keras.optimizers import Adagrad\n",
        "import matplotlib\n",
        "import matplotlib.pyplot as plt\n",
        "from keras.utils.np_utils import to_categorical"
      ],
      "execution_count": 0,
      "outputs": []
    },
    {
      "metadata": {
        "id": "LhtVCFvAu5Nx",
        "colab_type": "code",
        "colab": {
          "autoexec": {
            "startup": false,
            "wait_interval": 0
          },
          "output_extras": [
            {
              "item_id": 2
            }
          ],
          "base_uri": "https://localhost:8080/",
          "height": 68
        },
        "outputId": "336f4fdc-b69b-4941-a5dd-c82b6aed72e9",
        "executionInfo": {
          "status": "ok",
          "timestamp": 1519811171302,
          "user_tz": -330,
          "elapsed": 1586,
          "user": {
            "displayName": "Vaibhavi Pai",
            "photoUrl": "//lh6.googleusercontent.com/-fGobZ1IG4WM/AAAAAAAAAAI/AAAAAAAAJn8/liIPexomsj0/s50-c-k-no/photo.jpg",
            "userId": "116369912361116008818"
          }
        }
      },
      "cell_type": "code",
      "source": [
        "train, test = tf.keras.datasets.mnist.load_data()"
      ],
      "execution_count": 2,
      "outputs": [
        {
          "output_type": "stream",
          "text": [
            "Downloading data from https://s3.amazonaws.com/img-datasets/mnist.npz\n",
            "11493376/11490434 [==============================]11493376/11490434 [==============================] - 0s 0us/step\n",
            "\n"
          ],
          "name": "stdout"
        }
      ]
    },
    {
      "metadata": {
        "id": "fYLv6RkazjSd",
        "colab_type": "code",
        "colab": {
          "autoexec": {
            "startup": false,
            "wait_interval": 0
          }
        }
      },
      "cell_type": "code",
      "source": [
        "mnist_x, mnist_y = train"
      ],
      "execution_count": 0,
      "outputs": []
    },
    {
      "metadata": {
        "id": "3VQZkmb10bU8",
        "colab_type": "code",
        "colab": {
          "autoexec": {
            "startup": false,
            "wait_interval": 0
          }
        }
      },
      "cell_type": "code",
      "source": [
        "mnist_tx, mnist_ty = test"
      ],
      "execution_count": 0,
      "outputs": []
    },
    {
      "metadata": {
        "id": "PpY9nE9fxpI8",
        "colab_type": "text"
      },
      "cell_type": "markdown",
      "source": [
        "Data Preprocessing"
      ]
    },
    {
      "metadata": {
        "id": "ARjN-GklXxp0",
        "colab_type": "code",
        "colab": {
          "autoexec": {
            "startup": false,
            "wait_interval": 0
          },
          "output_extras": [
            {
              "item_id": 1
            }
          ],
          "base_uri": "https://localhost:8080/",
          "height": 51
        },
        "outputId": "c419359b-73c2-492c-aec4-b744a6074751",
        "executionInfo": {
          "status": "ok",
          "timestamp": 1519811177225,
          "user_tz": -330,
          "elapsed": 1052,
          "user": {
            "displayName": "Vaibhavi Pai",
            "photoUrl": "//lh6.googleusercontent.com/-fGobZ1IG4WM/AAAAAAAAAAI/AAAAAAAAJn8/liIPexomsj0/s50-c-k-no/photo.jpg",
            "userId": "116369912361116008818"
          }
        }
      },
      "cell_type": "code",
      "source": [
        "mnist_newx = mnist_x.reshape(mnist_x.shape[0], mnist_x.shape[1]*mnist_x.shape[2])\n",
        "mnist_newtx = mnist_tx.reshape(mnist_tx.shape[0], mnist_tx.shape[1]*mnist_tx.shape[2])\n",
        "print('Shape of training data:', mnist_newx.shape)\n",
        "print('Shape of test data:', mnist_newtx.shape)"
      ],
      "execution_count": 5,
      "outputs": [
        {
          "output_type": "stream",
          "text": [
            "Shape of training data: (60000, 784)\n",
            "Shape of test data: (10000, 784)\n"
          ],
          "name": "stdout"
        }
      ]
    },
    {
      "metadata": {
        "id": "UHFNjUCighLs",
        "colab_type": "code",
        "colab": {
          "autoexec": {
            "startup": false,
            "wait_interval": 0
          }
        }
      },
      "cell_type": "code",
      "source": [
        "data = mnist_newx\n",
        "testdata = mnist_newtx"
      ],
      "execution_count": 0,
      "outputs": []
    },
    {
      "metadata": {
        "id": "m-GFNv_CksrJ",
        "colab_type": "code",
        "colab": {
          "autoexec": {
            "startup": false,
            "wait_interval": 0
          }
        }
      },
      "cell_type": "code",
      "source": [
        "data = data.astype('float32')\n",
        "testdata = testdata.astype('float32')"
      ],
      "execution_count": 0,
      "outputs": []
    },
    {
      "metadata": {
        "id": "yyjOU6DQir3T",
        "colab_type": "code",
        "colab": {
          "autoexec": {
            "startup": false,
            "wait_interval": 0
          }
        }
      },
      "cell_type": "code",
      "source": [
        "data /= 255\n",
        "testdata /= 255"
      ],
      "execution_count": 0,
      "outputs": []
    },
    {
      "metadata": {
        "id": "tW4A6bEKyFZA",
        "colab_type": "code",
        "colab": {
          "autoexec": {
            "startup": false,
            "wait_interval": 0
          }
        }
      },
      "cell_type": "code",
      "source": [
        "labels = mnist_y\n",
        "testlabels = mnist_ty"
      ],
      "execution_count": 0,
      "outputs": []
    },
    {
      "metadata": {
        "id": "BeoLZ0rDsRJQ",
        "colab_type": "code",
        "colab": {
          "autoexec": {
            "startup": false,
            "wait_interval": 0
          }
        }
      },
      "cell_type": "code",
      "source": [
        "categorical_labels = to_categorical(labels, num_classes=None)\n",
        "categorical_tlabels = to_categorical(testlabels, num_classes=None)\n",
        "    "
      ],
      "execution_count": 0,
      "outputs": []
    },
    {
      "metadata": {
        "id": "Xc12fXmmxvgv",
        "colab_type": "text"
      },
      "cell_type": "markdown",
      "source": [
        "Creating Model"
      ]
    },
    {
      "metadata": {
        "id": "eDyZbOFqbyBO",
        "colab_type": "code",
        "colab": {
          "autoexec": {
            "startup": false,
            "wait_interval": 0
          }
        }
      },
      "cell_type": "code",
      "source": [
        "model = Sequential()\n",
        "model.add(Dense(500, input_dim=784, activation='relu'))\n",
        "model.add(Dense(500, activation='relu'))\n",
        "model.add(Dense(10, activation='softmax'))"
      ],
      "execution_count": 0,
      "outputs": []
    },
    {
      "metadata": {
        "id": "ncMDvoTfzF9k",
        "colab_type": "text"
      },
      "cell_type": "markdown",
      "source": [
        "SGD"
      ]
    },
    {
      "metadata": {
        "id": "3FvxdjTsfyoN",
        "colab_type": "code",
        "colab": {
          "autoexec": {
            "startup": false,
            "wait_interval": 0
          }
        }
      },
      "cell_type": "code",
      "source": [
        "sgd = SGD(lr=0.01, decay=1e-6, momentum=0.9, nesterov=True)"
      ],
      "execution_count": 0,
      "outputs": []
    },
    {
      "metadata": {
        "id": "EUgPcXGgf6Tn",
        "colab_type": "code",
        "colab": {
          "autoexec": {
            "startup": false,
            "wait_interval": 0
          }
        }
      },
      "cell_type": "code",
      "source": [
        "model.compile(loss='categorical_crossentropy', metrics=['accuracy'], optimizer=sgd)\n"
      ],
      "execution_count": 0,
      "outputs": []
    },
    {
      "metadata": {
        "id": "WBXHbm3Pf_uI",
        "colab_type": "code",
        "colab": {
          "autoexec": {
            "startup": false,
            "wait_interval": 0
          },
          "output_extras": [
            {
              "item_id": 19
            }
          ],
          "base_uri": "https://localhost:8080/",
          "height": 374
        },
        "outputId": "9882ea3b-4a07-492c-aac4-58c3d63be5e6",
        "executionInfo": {
          "status": "ok",
          "timestamp": 1519812171146,
          "user_tz": -330,
          "elapsed": 62074,
          "user": {
            "displayName": "Vaibhavi Pai",
            "photoUrl": "//lh6.googleusercontent.com/-fGobZ1IG4WM/AAAAAAAAAAI/AAAAAAAAJn8/liIPexomsj0/s50-c-k-no/photo.jpg",
            "userId": "116369912361116008818"
          }
        }
      },
      "cell_type": "code",
      "source": [
        "scoretrain = model.fit(data, categorical_labels, batch_size=128, epochs=10, verbose=2, validation_data=(testdata, categorical_tlabels))"
      ],
      "execution_count": 39,
      "outputs": [
        {
          "output_type": "stream",
          "text": [
            "Train on 60000 samples, validate on 10000 samples\n",
            "Epoch 1/10\n",
            " - 5s - loss: 0.4319 - acc: 0.8818 - val_loss: 0.2366 - val_acc: 0.9308\n",
            "Epoch 2/10\n",
            " - 6s - loss: 0.1961 - acc: 0.9436 - val_loss: 0.1638 - val_acc: 0.9526\n",
            "Epoch 3/10\n",
            " - 6s - loss: 0.1439 - acc: 0.9593 - val_loss: 0.1261 - val_acc: 0.9620\n",
            "Epoch 4/10\n",
            " - 6s - loss: 0.1129 - acc: 0.9674 - val_loss: 0.1093 - val_acc: 0.9662\n",
            "Epoch 5/10\n",
            " - 6s - loss: 0.0913 - acc: 0.9738 - val_loss: 0.0932 - val_acc: 0.9723\n",
            "Epoch 6/10\n",
            " - 6s - loss: 0.0765 - acc: 0.9779 - val_loss: 0.0882 - val_acc: 0.9733\n",
            "Epoch 7/10\n",
            " - 6s - loss: 0.0647 - acc: 0.9819 - val_loss: 0.0856 - val_acc: 0.9724\n",
            "Epoch 8/10\n",
            " - 6s - loss: 0.0557 - acc: 0.9844 - val_loss: 0.0752 - val_acc: 0.9766\n",
            "Epoch 9/10\n",
            " - 6s - loss: 0.0480 - acc: 0.9864 - val_loss: 0.0692 - val_acc: 0.9795\n",
            "Epoch 10/10\n",
            " - 6s - loss: 0.0414 - acc: 0.9885 - val_loss: 0.0718 - val_acc: 0.9782\n"
          ],
          "name": "stdout"
        }
      ]
    },
    {
      "metadata": {
        "id": "TCxcZ8bC1aBe",
        "colab_type": "code",
        "colab": {
          "autoexec": {
            "startup": false,
            "wait_interval": 0
          },
          "output_extras": [
            {
              "item_id": 1
            }
          ],
          "base_uri": "https://localhost:8080/",
          "height": 51
        },
        "outputId": "e8198d8e-ec41-41ca-d9d3-14aadb16936a",
        "executionInfo": {
          "status": "ok",
          "timestamp": 1519812367117,
          "user_tz": -330,
          "elapsed": 1709,
          "user": {
            "displayName": "Vaibhavi Pai",
            "photoUrl": "//lh6.googleusercontent.com/-fGobZ1IG4WM/AAAAAAAAAAI/AAAAAAAAJn8/liIPexomsj0/s50-c-k-no/photo.jpg",
            "userId": "116369912361116008818"
          }
        }
      },
      "cell_type": "code",
      "source": [
        "scoretest = model.evaluate(testdata, categorical_tlabels, verbose=2)\n",
        "print(\"Test Loss\", scoretest[0])\n",
        "print(\"Test Accuracy\", scoretest[1])"
      ],
      "execution_count": 40,
      "outputs": [
        {
          "output_type": "stream",
          "text": [
            "Test Loss 0.07179640369974077\n",
            "Test Accuracy 0.9782\n"
          ],
          "name": "stdout"
        }
      ]
    },
    {
      "metadata": {
        "id": "NW-HCeI-1Q35",
        "colab_type": "code",
        "colab": {
          "autoexec": {
            "startup": false,
            "wait_interval": 0
          },
          "output_extras": [
            {
              "item_id": 1
            },
            {
              "item_id": 2
            }
          ],
          "base_uri": "https://localhost:8080/",
          "height": 785
        },
        "outputId": "ccfbf84c-3693-47d3-fbdd-3aac5986dd13",
        "executionInfo": {
          "status": "ok",
          "timestamp": 1519812375147,
          "user_tz": -330,
          "elapsed": 1560,
          "user": {
            "displayName": "Vaibhavi Pai",
            "photoUrl": "//lh6.googleusercontent.com/-fGobZ1IG4WM/AAAAAAAAAAI/AAAAAAAAJn8/liIPexomsj0/s50-c-k-no/photo.jpg",
            "userId": "116369912361116008818"
          }
        }
      },
      "cell_type": "code",
      "source": [
        "# plots of metrics\n",
        "fig = plt.figure()\n",
        "plt.subplot(2,1,1)\n",
        "plt.plot(scoretrain.history['acc'])\n",
        "plt.plot(scoretrain.history['val_acc'])\n",
        "plt.title('model accuracy')\n",
        "plt.ylabel('accuracy')\n",
        "plt.xlabel('epoch')\n",
        "plt.legend(['train', 'test'], loc='lower right')\n",
        "\n",
        "plt.subplot(2,1,2)\n",
        "plt.plot(scoretrain.history['loss'])\n",
        "plt.plot(scoretrain.history['val_loss'])\n",
        "plt.title('model loss')\n",
        "plt.ylabel('loss')\n",
        "plt.xlabel('epoch')\n",
        "plt.legend(['train', 'test'], loc='upper right')\n",
        "\n",
        "plt.tight_layout()\n",
        "\n",
        "fig"
      ],
      "execution_count": 41,
      "outputs": [
        {
          "output_type": "execute_result",
          "data": {
            "image/png": "[encoded data removed]",
            "text/plain": [
              "<matplotlib.figure.Figure at 0x7f319ad48a20>"
            ]
          },
          "metadata": {
            "tags": []
          },
          "execution_count": 41
        },
        {
          "output_type": "display_data",
          "data": {
            "image/png": "[encoded data removed]",
            "text/plain": [
              "<matplotlib.figure.Figure at 0x7f319ad48a20>"
            ]
          },
          "metadata": {
            "tags": []
          }
        }
      ]
    },
    {
      "metadata": {
        "id": "Q-9Mr-8l0GA_",
        "colab_type": "text"
      },
      "cell_type": "markdown",
      "source": [
        "Adagrad"
      ]
    },
    {
      "metadata": {
        "id": "NZDcT1M2mM5v",
        "colab_type": "code",
        "colab": {
          "autoexec": {
            "startup": false,
            "wait_interval": 0
          }
        }
      },
      "cell_type": "code",
      "source": [
        "adagrad = Adagrad(lr=0.01, epsilon=None, decay=0.0)"
      ],
      "execution_count": 0,
      "outputs": []
    },
    {
      "metadata": {
        "id": "2Vgi-Q-ZdG-V",
        "colab_type": "code",
        "colab": {
          "autoexec": {
            "startup": false,
            "wait_interval": 0
          }
        }
      },
      "cell_type": "code",
      "source": [
        "model.compile(loss='categorical_crossentropy', metrics=['accuracy'], optimizer=adagrad)"
      ],
      "execution_count": 0,
      "outputs": []
    },
    {
      "metadata": {
        "id": "mRQF9arKdoGZ",
        "colab_type": "code",
        "colab": {
          "autoexec": {
            "startup": false,
            "wait_interval": 0
          },
          "output_extras": [
            {
              "item_id": 18
            }
          ],
          "base_uri": "https://localhost:8080/",
          "height": 374
        },
        "outputId": "60d4b096-af57-4cc2-ce15-8bcbd60b5371",
        "executionInfo": {
          "status": "ok",
          "timestamp": 1519812504154,
          "user_tz": -330,
          "elapsed": 64660,
          "user": {
            "displayName": "Vaibhavi Pai",
            "photoUrl": "//lh6.googleusercontent.com/-fGobZ1IG4WM/AAAAAAAAAAI/AAAAAAAAJn8/liIPexomsj0/s50-c-k-no/photo.jpg",
            "userId": "116369912361116008818"
          }
        }
      },
      "cell_type": "code",
      "source": [
        "scoretrainada = model.fit(data, categorical_labels, batch_size=128, epochs=10, verbose=2, validation_data=(testdata, categorical_tlabels))"
      ],
      "execution_count": 47,
      "outputs": [
        {
          "output_type": "stream",
          "text": [
            "Train on 60000 samples, validate on 10000 samples\n",
            "Epoch 1/10\n",
            " - 6s - loss: 0.3493 - acc: 0.9537 - val_loss: 0.0743 - val_acc: 0.9773\n",
            "Epoch 2/10\n",
            " - 6s - loss: 0.0385 - acc: 0.9886 - val_loss: 0.0666 - val_acc: 0.9798\n",
            "Epoch 3/10\n",
            " - 6s - loss: 0.0246 - acc: 0.9932 - val_loss: 0.0588 - val_acc: 0.9824\n",
            "Epoch 4/10\n",
            " - 6s - loss: 0.0155 - acc: 0.9963 - val_loss: 0.0617 - val_acc: 0.9815\n",
            "Epoch 5/10\n",
            " - 6s - loss: 0.0108 - acc: 0.9981 - val_loss: 0.0571 - val_acc: 0.9835\n",
            "Epoch 6/10\n",
            " - 6s - loss: 0.0079 - acc: 0.9990 - val_loss: 0.0606 - val_acc: 0.9826\n",
            "Epoch 7/10\n",
            " - 6s - loss: 0.0060 - acc: 0.9993 - val_loss: 0.0613 - val_acc: 0.9828\n",
            "Epoch 8/10\n",
            " - 6s - loss: 0.0046 - acc: 0.9996 - val_loss: 0.0611 - val_acc: 0.9826\n",
            "Epoch 9/10\n",
            " - 6s - loss: 0.0037 - acc: 0.9997 - val_loss: 0.0596 - val_acc: 0.9831\n",
            "Epoch 10/10\n",
            " - 6s - loss: 0.0030 - acc: 0.9999 - val_loss: 0.0608 - val_acc: 0.9833\n"
          ],
          "name": "stdout"
        }
      ]
    },
    {
      "metadata": {
        "id": "NyIbqSO4e58W",
        "colab_type": "code",
        "colab": {
          "autoexec": {
            "startup": false,
            "wait_interval": 0
          },
          "output_extras": [
            {
              "item_id": 1
            }
          ],
          "base_uri": "https://localhost:8080/",
          "height": 51
        },
        "outputId": "a6789fe6-75d7-4667-8c3d-b725e0b997da",
        "executionInfo": {
          "status": "ok",
          "timestamp": 1519812519763,
          "user_tz": -330,
          "elapsed": 1224,
          "user": {
            "displayName": "Vaibhavi Pai",
            "photoUrl": "//lh6.googleusercontent.com/-fGobZ1IG4WM/AAAAAAAAAAI/AAAAAAAAJn8/liIPexomsj0/s50-c-k-no/photo.jpg",
            "userId": "116369912361116008818"
          }
        }
      },
      "cell_type": "code",
      "source": [
        "scoretest = model.evaluate(testdata, categorical_tlabels, verbose=2)\n",
        "print(\"Test Loss\", scoretest[0])\n",
        "print(\"Test Accuracy\", scoretest[1])"
      ],
      "execution_count": 49,
      "outputs": [
        {
          "output_type": "stream",
          "text": [
            "Test Loss 0.06079752272721016\n",
            "Test Accuracy 0.9833\n"
          ],
          "name": "stdout"
        }
      ]
    },
    {
      "metadata": {
        "id": "glxeD6xWfKvu",
        "colab_type": "code",
        "colab": {
          "autoexec": {
            "startup": false,
            "wait_interval": 0
          },
          "output_extras": [
            {
              "item_id": 1
            },
            {
              "item_id": 2
            }
          ],
          "base_uri": "https://localhost:8080/",
          "height": 785
        },
        "outputId": "c3de6ad2-b21c-4a85-d4fd-0c6b6a904247",
        "executionInfo": {
          "status": "ok",
          "timestamp": 1519812524759,
          "user_tz": -330,
          "elapsed": 1388,
          "user": {
            "displayName": "Vaibhavi Pai",
            "photoUrl": "//lh6.googleusercontent.com/-fGobZ1IG4WM/AAAAAAAAAAI/AAAAAAAAJn8/liIPexomsj0/s50-c-k-no/photo.jpg",
            "userId": "116369912361116008818"
          }
        }
      },
      "cell_type": "code",
      "source": [
        "# plots of metrics\n",
        "fig = plt.figure()\n",
        "plt.subplot(2,1,1)\n",
        "plt.plot(scoretrainada.history['acc'])\n",
        "plt.plot(scoretrainada.history['val_acc'])\n",
        "plt.title('model accuracy')\n",
        "plt.ylabel('accuracy')\n",
        "plt.xlabel('epoch')\n",
        "plt.legend(['train', 'test'], loc='lower right')\n",
        "\n",
        "plt.subplot(2,1,2)\n",
        "plt.plot(scoretrainada.history['loss'])\n",
        "plt.plot(scoretrainada.history['val_loss'])\n",
        "plt.title('model loss')\n",
        "plt.ylabel('loss')\n",
        "plt.xlabel('epoch')\n",
        "plt.legend(['train', 'test'], loc='upper right')\n",
        "\n",
        "plt.tight_layout()\n",
        "\n",
        "fig"
      ],
      "execution_count": 50,
      "outputs": [
        {
          "output_type": "execute_result",
          "data": {
            "image/png": "[encoded data removed]",
            "text/plain": [
              "<matplotlib.figure.Figure at 0x7f319a904fd0>"
            ]
          },
          "metadata": {
            "tags": []
          },
          "execution_count": 50
        },
        {
          "output_type": "display_data",
          "data": {
            "image/png": "[encoded data removed]",
            "text/plain": [
              "<matplotlib.figure.Figure at 0x7f319a904fd0>"
            ]
          },
          "metadata": {
            "tags": []
          }
        }
      ]
    },
    {
      "metadata": {
        "id": "91YbRXtffaRN",
        "colab_type": "code",
        "colab": {
          "autoexec": {
            "startup": false,
            "wait_interval": 0
          },
          "output_extras": [
            {
              "item_id": 1
            }
          ],
          "base_uri": "https://localhost:8080/",
          "height": 51
        },
        "outputId": "7fa63cc5-1e9a-419f-c7a6-b9e46d92e8b9",
        "executionInfo": {
          "status": "ok",
          "timestamp": 1519725604730,
          "user_tz": -330,
          "elapsed": 992,
          "user": {
            "displayName": "Vaibhavi Pai",
            "photoUrl": "//lh6.googleusercontent.com/-fGobZ1IG4WM/AAAAAAAAAAI/AAAAAAAAJn8/liIPexomsj0/s50-c-k-no/photo.jpg",
            "userId": "116369912361116008818"
          }
        }
      },
      "cell_type": "code",
      "source": [
        ""
      ],
      "execution_count": 73,
      "outputs": [
        {
          "output_type": "stream",
          "text": [
            "\n",
            "acc: 11.20%\n"
          ],
          "name": "stdout"
        }
      ]
    },
    {
      "metadata": {
        "id": "etyFVF9WdoCy",
        "colab_type": "code",
        "colab": {
          "autoexec": {
            "startup": false,
            "wait_interval": 0
          }
        }
      },
      "cell_type": "code",
      "source": [
        ""
      ],
      "execution_count": 0,
      "outputs": []
    }
  ]
}